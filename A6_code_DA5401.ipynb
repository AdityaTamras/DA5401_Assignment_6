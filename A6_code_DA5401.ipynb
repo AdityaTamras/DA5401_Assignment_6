{
  "nbformat": 4,
  "nbformat_minor": 0,
  "metadata": {
    "colab": {
      "provenance": []
    },
    "kernelspec": {
      "name": "python3",
      "display_name": "Python 3"
    },
    "language_info": {
      "name": "python"
    }
  },
  "cells": [
    {
      "cell_type": "code",
      "execution_count": 1,
      "metadata": {
        "id": "pF71WrYZZp39"
      },
      "outputs": [],
      "source": [
        "import numpy as np\n",
        "import pandas as pd\n",
        "import matplotlib.pyplot as plt\n",
        "from sklearn.linear_model import LinearRegression, LogisticRegression\n",
        "from sklearn.tree import DecisionTreeRegressor\n",
        "from sklearn.preprocessing import StandardScaler\n",
        "from sklearn.model_selection import train_test_split\n",
        "from sklearn.metrics import classification_report, accuracy_score, precision_score, recall_score, f1_score"
      ]
    },
    {
      "cell_type": "code",
      "source": [
        "!unzip /content/credit_card_default_dataset.zip"
      ],
      "metadata": {
        "colab": {
          "base_uri": "https://localhost:8080/"
        },
        "id": "Vn-cisvcaR16",
        "outputId": "df1915d2-6a78-46c3-d7d8-2c0da1ce38d7"
      },
      "execution_count": 3,
      "outputs": [
        {
          "output_type": "stream",
          "name": "stdout",
          "text": [
            "Archive:  /content/credit_card_default_dataset.zip\n",
            "  inflating: UCI_Credit_Card.csv     \n"
          ]
        }
      ]
    },
    {
      "cell_type": "code",
      "source": [
        "credit_df=pd.read_csv('/content/UCI_Credit_Card.csv')"
      ],
      "metadata": {
        "id": "2Iaq-7eaa684"
      },
      "execution_count": 4,
      "outputs": []
    },
    {
      "cell_type": "code",
      "source": [
        "credit_df"
      ],
      "metadata": {
        "colab": {
          "base_uri": "https://localhost:8080/",
          "height": 443
        },
        "id": "R73z6YvCj9dl",
        "outputId": "9323cb8c-18df-4bba-a5a6-692649710fb0"
      },
      "execution_count": 5,
      "outputs": [
        {
          "output_type": "execute_result",
          "data": {
            "text/plain": [
              "          ID  LIMIT_BAL  SEX  EDUCATION  MARRIAGE  AGE  PAY_0  PAY_2  PAY_3  \\\n",
              "0          1    20000.0    2          2         1   24      2      2     -1   \n",
              "1          2   120000.0    2          2         2   26     -1      2      0   \n",
              "2          3    90000.0    2          2         2   34      0      0      0   \n",
              "3          4    50000.0    2          2         1   37      0      0      0   \n",
              "4          5    50000.0    1          2         1   57     -1      0     -1   \n",
              "...      ...        ...  ...        ...       ...  ...    ...    ...    ...   \n",
              "29995  29996   220000.0    1          3         1   39      0      0      0   \n",
              "29996  29997   150000.0    1          3         2   43     -1     -1     -1   \n",
              "29997  29998    30000.0    1          2         2   37      4      3      2   \n",
              "29998  29999    80000.0    1          3         1   41      1     -1      0   \n",
              "29999  30000    50000.0    1          2         1   46      0      0      0   \n",
              "\n",
              "       PAY_4  ...  BILL_AMT4  BILL_AMT5  BILL_AMT6  PAY_AMT1  PAY_AMT2  \\\n",
              "0         -1  ...        0.0        0.0        0.0       0.0     689.0   \n",
              "1          0  ...     3272.0     3455.0     3261.0       0.0    1000.0   \n",
              "2          0  ...    14331.0    14948.0    15549.0    1518.0    1500.0   \n",
              "3          0  ...    28314.0    28959.0    29547.0    2000.0    2019.0   \n",
              "4          0  ...    20940.0    19146.0    19131.0    2000.0   36681.0   \n",
              "...      ...  ...        ...        ...        ...       ...       ...   \n",
              "29995      0  ...    88004.0    31237.0    15980.0    8500.0   20000.0   \n",
              "29996     -1  ...     8979.0     5190.0        0.0    1837.0    3526.0   \n",
              "29997     -1  ...    20878.0    20582.0    19357.0       0.0       0.0   \n",
              "29998      0  ...    52774.0    11855.0    48944.0   85900.0    3409.0   \n",
              "29999      0  ...    36535.0    32428.0    15313.0    2078.0    1800.0   \n",
              "\n",
              "       PAY_AMT3  PAY_AMT4  PAY_AMT5  PAY_AMT6  default.payment.next.month  \n",
              "0           0.0       0.0       0.0       0.0                           1  \n",
              "1        1000.0    1000.0       0.0    2000.0                           1  \n",
              "2        1000.0    1000.0    1000.0    5000.0                           0  \n",
              "3        1200.0    1100.0    1069.0    1000.0                           0  \n",
              "4       10000.0    9000.0     689.0     679.0                           0  \n",
              "...         ...       ...       ...       ...                         ...  \n",
              "29995    5003.0    3047.0    5000.0    1000.0                           0  \n",
              "29996    8998.0     129.0       0.0       0.0                           0  \n",
              "29997   22000.0    4200.0    2000.0    3100.0                           1  \n",
              "29998    1178.0    1926.0   52964.0    1804.0                           1  \n",
              "29999    1430.0    1000.0    1000.0    1000.0                           1  \n",
              "\n",
              "[30000 rows x 25 columns]"
            ],
            "text/html": [
              "\n",
              "  <div id=\"df-c128b5b5-745e-4fb0-bdbc-48e6fea23d06\" class=\"colab-df-container\">\n",
              "    <div>\n",
              "<style scoped>\n",
              "    .dataframe tbody tr th:only-of-type {\n",
              "        vertical-align: middle;\n",
              "    }\n",
              "\n",
              "    .dataframe tbody tr th {\n",
              "        vertical-align: top;\n",
              "    }\n",
              "\n",
              "    .dataframe thead th {\n",
              "        text-align: right;\n",
              "    }\n",
              "</style>\n",
              "<table border=\"1\" class=\"dataframe\">\n",
              "  <thead>\n",
              "    <tr style=\"text-align: right;\">\n",
              "      <th></th>\n",
              "      <th>ID</th>\n",
              "      <th>LIMIT_BAL</th>\n",
              "      <th>SEX</th>\n",
              "      <th>EDUCATION</th>\n",
              "      <th>MARRIAGE</th>\n",
              "      <th>AGE</th>\n",
              "      <th>PAY_0</th>\n",
              "      <th>PAY_2</th>\n",
              "      <th>PAY_3</th>\n",
              "      <th>PAY_4</th>\n",
              "      <th>...</th>\n",
              "      <th>BILL_AMT4</th>\n",
              "      <th>BILL_AMT5</th>\n",
              "      <th>BILL_AMT6</th>\n",
              "      <th>PAY_AMT1</th>\n",
              "      <th>PAY_AMT2</th>\n",
              "      <th>PAY_AMT3</th>\n",
              "      <th>PAY_AMT4</th>\n",
              "      <th>PAY_AMT5</th>\n",
              "      <th>PAY_AMT6</th>\n",
              "      <th>default.payment.next.month</th>\n",
              "    </tr>\n",
              "  </thead>\n",
              "  <tbody>\n",
              "    <tr>\n",
              "      <th>0</th>\n",
              "      <td>1</td>\n",
              "      <td>20000.0</td>\n",
              "      <td>2</td>\n",
              "      <td>2</td>\n",
              "      <td>1</td>\n",
              "      <td>24</td>\n",
              "      <td>2</td>\n",
              "      <td>2</td>\n",
              "      <td>-1</td>\n",
              "      <td>-1</td>\n",
              "      <td>...</td>\n",
              "      <td>0.0</td>\n",
              "      <td>0.0</td>\n",
              "      <td>0.0</td>\n",
              "      <td>0.0</td>\n",
              "      <td>689.0</td>\n",
              "      <td>0.0</td>\n",
              "      <td>0.0</td>\n",
              "      <td>0.0</td>\n",
              "      <td>0.0</td>\n",
              "      <td>1</td>\n",
              "    </tr>\n",
              "    <tr>\n",
              "      <th>1</th>\n",
              "      <td>2</td>\n",
              "      <td>120000.0</td>\n",
              "      <td>2</td>\n",
              "      <td>2</td>\n",
              "      <td>2</td>\n",
              "      <td>26</td>\n",
              "      <td>-1</td>\n",
              "      <td>2</td>\n",
              "      <td>0</td>\n",
              "      <td>0</td>\n",
              "      <td>...</td>\n",
              "      <td>3272.0</td>\n",
              "      <td>3455.0</td>\n",
              "      <td>3261.0</td>\n",
              "      <td>0.0</td>\n",
              "      <td>1000.0</td>\n",
              "      <td>1000.0</td>\n",
              "      <td>1000.0</td>\n",
              "      <td>0.0</td>\n",
              "      <td>2000.0</td>\n",
              "      <td>1</td>\n",
              "    </tr>\n",
              "    <tr>\n",
              "      <th>2</th>\n",
              "      <td>3</td>\n",
              "      <td>90000.0</td>\n",
              "      <td>2</td>\n",
              "      <td>2</td>\n",
              "      <td>2</td>\n",
              "      <td>34</td>\n",
              "      <td>0</td>\n",
              "      <td>0</td>\n",
              "      <td>0</td>\n",
              "      <td>0</td>\n",
              "      <td>...</td>\n",
              "      <td>14331.0</td>\n",
              "      <td>14948.0</td>\n",
              "      <td>15549.0</td>\n",
              "      <td>1518.0</td>\n",
              "      <td>1500.0</td>\n",
              "      <td>1000.0</td>\n",
              "      <td>1000.0</td>\n",
              "      <td>1000.0</td>\n",
              "      <td>5000.0</td>\n",
              "      <td>0</td>\n",
              "    </tr>\n",
              "    <tr>\n",
              "      <th>3</th>\n",
              "      <td>4</td>\n",
              "      <td>50000.0</td>\n",
              "      <td>2</td>\n",
              "      <td>2</td>\n",
              "      <td>1</td>\n",
              "      <td>37</td>\n",
              "      <td>0</td>\n",
              "      <td>0</td>\n",
              "      <td>0</td>\n",
              "      <td>0</td>\n",
              "      <td>...</td>\n",
              "      <td>28314.0</td>\n",
              "      <td>28959.0</td>\n",
              "      <td>29547.0</td>\n",
              "      <td>2000.0</td>\n",
              "      <td>2019.0</td>\n",
              "      <td>1200.0</td>\n",
              "      <td>1100.0</td>\n",
              "      <td>1069.0</td>\n",
              "      <td>1000.0</td>\n",
              "      <td>0</td>\n",
              "    </tr>\n",
              "    <tr>\n",
              "      <th>4</th>\n",
              "      <td>5</td>\n",
              "      <td>50000.0</td>\n",
              "      <td>1</td>\n",
              "      <td>2</td>\n",
              "      <td>1</td>\n",
              "      <td>57</td>\n",
              "      <td>-1</td>\n",
              "      <td>0</td>\n",
              "      <td>-1</td>\n",
              "      <td>0</td>\n",
              "      <td>...</td>\n",
              "      <td>20940.0</td>\n",
              "      <td>19146.0</td>\n",
              "      <td>19131.0</td>\n",
              "      <td>2000.0</td>\n",
              "      <td>36681.0</td>\n",
              "      <td>10000.0</td>\n",
              "      <td>9000.0</td>\n",
              "      <td>689.0</td>\n",
              "      <td>679.0</td>\n",
              "      <td>0</td>\n",
              "    </tr>\n",
              "    <tr>\n",
              "      <th>...</th>\n",
              "      <td>...</td>\n",
              "      <td>...</td>\n",
              "      <td>...</td>\n",
              "      <td>...</td>\n",
              "      <td>...</td>\n",
              "      <td>...</td>\n",
              "      <td>...</td>\n",
              "      <td>...</td>\n",
              "      <td>...</td>\n",
              "      <td>...</td>\n",
              "      <td>...</td>\n",
              "      <td>...</td>\n",
              "      <td>...</td>\n",
              "      <td>...</td>\n",
              "      <td>...</td>\n",
              "      <td>...</td>\n",
              "      <td>...</td>\n",
              "      <td>...</td>\n",
              "      <td>...</td>\n",
              "      <td>...</td>\n",
              "      <td>...</td>\n",
              "    </tr>\n",
              "    <tr>\n",
              "      <th>29995</th>\n",
              "      <td>29996</td>\n",
              "      <td>220000.0</td>\n",
              "      <td>1</td>\n",
              "      <td>3</td>\n",
              "      <td>1</td>\n",
              "      <td>39</td>\n",
              "      <td>0</td>\n",
              "      <td>0</td>\n",
              "      <td>0</td>\n",
              "      <td>0</td>\n",
              "      <td>...</td>\n",
              "      <td>88004.0</td>\n",
              "      <td>31237.0</td>\n",
              "      <td>15980.0</td>\n",
              "      <td>8500.0</td>\n",
              "      <td>20000.0</td>\n",
              "      <td>5003.0</td>\n",
              "      <td>3047.0</td>\n",
              "      <td>5000.0</td>\n",
              "      <td>1000.0</td>\n",
              "      <td>0</td>\n",
              "    </tr>\n",
              "    <tr>\n",
              "      <th>29996</th>\n",
              "      <td>29997</td>\n",
              "      <td>150000.0</td>\n",
              "      <td>1</td>\n",
              "      <td>3</td>\n",
              "      <td>2</td>\n",
              "      <td>43</td>\n",
              "      <td>-1</td>\n",
              "      <td>-1</td>\n",
              "      <td>-1</td>\n",
              "      <td>-1</td>\n",
              "      <td>...</td>\n",
              "      <td>8979.0</td>\n",
              "      <td>5190.0</td>\n",
              "      <td>0.0</td>\n",
              "      <td>1837.0</td>\n",
              "      <td>3526.0</td>\n",
              "      <td>8998.0</td>\n",
              "      <td>129.0</td>\n",
              "      <td>0.0</td>\n",
              "      <td>0.0</td>\n",
              "      <td>0</td>\n",
              "    </tr>\n",
              "    <tr>\n",
              "      <th>29997</th>\n",
              "      <td>29998</td>\n",
              "      <td>30000.0</td>\n",
              "      <td>1</td>\n",
              "      <td>2</td>\n",
              "      <td>2</td>\n",
              "      <td>37</td>\n",
              "      <td>4</td>\n",
              "      <td>3</td>\n",
              "      <td>2</td>\n",
              "      <td>-1</td>\n",
              "      <td>...</td>\n",
              "      <td>20878.0</td>\n",
              "      <td>20582.0</td>\n",
              "      <td>19357.0</td>\n",
              "      <td>0.0</td>\n",
              "      <td>0.0</td>\n",
              "      <td>22000.0</td>\n",
              "      <td>4200.0</td>\n",
              "      <td>2000.0</td>\n",
              "      <td>3100.0</td>\n",
              "      <td>1</td>\n",
              "    </tr>\n",
              "    <tr>\n",
              "      <th>29998</th>\n",
              "      <td>29999</td>\n",
              "      <td>80000.0</td>\n",
              "      <td>1</td>\n",
              "      <td>3</td>\n",
              "      <td>1</td>\n",
              "      <td>41</td>\n",
              "      <td>1</td>\n",
              "      <td>-1</td>\n",
              "      <td>0</td>\n",
              "      <td>0</td>\n",
              "      <td>...</td>\n",
              "      <td>52774.0</td>\n",
              "      <td>11855.0</td>\n",
              "      <td>48944.0</td>\n",
              "      <td>85900.0</td>\n",
              "      <td>3409.0</td>\n",
              "      <td>1178.0</td>\n",
              "      <td>1926.0</td>\n",
              "      <td>52964.0</td>\n",
              "      <td>1804.0</td>\n",
              "      <td>1</td>\n",
              "    </tr>\n",
              "    <tr>\n",
              "      <th>29999</th>\n",
              "      <td>30000</td>\n",
              "      <td>50000.0</td>\n",
              "      <td>1</td>\n",
              "      <td>2</td>\n",
              "      <td>1</td>\n",
              "      <td>46</td>\n",
              "      <td>0</td>\n",
              "      <td>0</td>\n",
              "      <td>0</td>\n",
              "      <td>0</td>\n",
              "      <td>...</td>\n",
              "      <td>36535.0</td>\n",
              "      <td>32428.0</td>\n",
              "      <td>15313.0</td>\n",
              "      <td>2078.0</td>\n",
              "      <td>1800.0</td>\n",
              "      <td>1430.0</td>\n",
              "      <td>1000.0</td>\n",
              "      <td>1000.0</td>\n",
              "      <td>1000.0</td>\n",
              "      <td>1</td>\n",
              "    </tr>\n",
              "  </tbody>\n",
              "</table>\n",
              "<p>30000 rows × 25 columns</p>\n",
              "</div>\n",
              "    <div class=\"colab-df-buttons\">\n",
              "\n",
              "  <div class=\"colab-df-container\">\n",
              "    <button class=\"colab-df-convert\" onclick=\"convertToInteractive('df-c128b5b5-745e-4fb0-bdbc-48e6fea23d06')\"\n",
              "            title=\"Convert this dataframe to an interactive table.\"\n",
              "            style=\"display:none;\">\n",
              "\n",
              "  <svg xmlns=\"http://www.w3.org/2000/svg\" height=\"24px\" viewBox=\"0 -960 960 960\">\n",
              "    <path d=\"M120-120v-720h720v720H120Zm60-500h600v-160H180v160Zm220 220h160v-160H400v160Zm0 220h160v-160H400v160ZM180-400h160v-160H180v160Zm440 0h160v-160H620v160ZM180-180h160v-160H180v160Zm440 0h160v-160H620v160Z\"/>\n",
              "  </svg>\n",
              "    </button>\n",
              "\n",
              "  <style>\n",
              "    .colab-df-container {\n",
              "      display:flex;\n",
              "      gap: 12px;\n",
              "    }\n",
              "\n",
              "    .colab-df-convert {\n",
              "      background-color: #E8F0FE;\n",
              "      border: none;\n",
              "      border-radius: 50%;\n",
              "      cursor: pointer;\n",
              "      display: none;\n",
              "      fill: #1967D2;\n",
              "      height: 32px;\n",
              "      padding: 0 0 0 0;\n",
              "      width: 32px;\n",
              "    }\n",
              "\n",
              "    .colab-df-convert:hover {\n",
              "      background-color: #E2EBFA;\n",
              "      box-shadow: 0px 1px 2px rgba(60, 64, 67, 0.3), 0px 1px 3px 1px rgba(60, 64, 67, 0.15);\n",
              "      fill: #174EA6;\n",
              "    }\n",
              "\n",
              "    .colab-df-buttons div {\n",
              "      margin-bottom: 4px;\n",
              "    }\n",
              "\n",
              "    [theme=dark] .colab-df-convert {\n",
              "      background-color: #3B4455;\n",
              "      fill: #D2E3FC;\n",
              "    }\n",
              "\n",
              "    [theme=dark] .colab-df-convert:hover {\n",
              "      background-color: #434B5C;\n",
              "      box-shadow: 0px 1px 3px 1px rgba(0, 0, 0, 0.15);\n",
              "      filter: drop-shadow(0px 1px 2px rgba(0, 0, 0, 0.3));\n",
              "      fill: #FFFFFF;\n",
              "    }\n",
              "  </style>\n",
              "\n",
              "    <script>\n",
              "      const buttonEl =\n",
              "        document.querySelector('#df-c128b5b5-745e-4fb0-bdbc-48e6fea23d06 button.colab-df-convert');\n",
              "      buttonEl.style.display =\n",
              "        google.colab.kernel.accessAllowed ? 'block' : 'none';\n",
              "\n",
              "      async function convertToInteractive(key) {\n",
              "        const element = document.querySelector('#df-c128b5b5-745e-4fb0-bdbc-48e6fea23d06');\n",
              "        const dataTable =\n",
              "          await google.colab.kernel.invokeFunction('convertToInteractive',\n",
              "                                                    [key], {});\n",
              "        if (!dataTable) return;\n",
              "\n",
              "        const docLinkHtml = 'Like what you see? Visit the ' +\n",
              "          '<a target=\"_blank\" href=https://colab.research.google.com/notebooks/data_table.ipynb>data table notebook</a>'\n",
              "          + ' to learn more about interactive tables.';\n",
              "        element.innerHTML = '';\n",
              "        dataTable['output_type'] = 'display_data';\n",
              "        await google.colab.output.renderOutput(dataTable, element);\n",
              "        const docLink = document.createElement('div');\n",
              "        docLink.innerHTML = docLinkHtml;\n",
              "        element.appendChild(docLink);\n",
              "      }\n",
              "    </script>\n",
              "  </div>\n",
              "\n",
              "\n",
              "    <div id=\"df-42788ca8-9c4e-4568-9b1c-5c5683fcb435\">\n",
              "      <button class=\"colab-df-quickchart\" onclick=\"quickchart('df-42788ca8-9c4e-4568-9b1c-5c5683fcb435')\"\n",
              "                title=\"Suggest charts\"\n",
              "                style=\"display:none;\">\n",
              "\n",
              "<svg xmlns=\"http://www.w3.org/2000/svg\" height=\"24px\"viewBox=\"0 0 24 24\"\n",
              "     width=\"24px\">\n",
              "    <g>\n",
              "        <path d=\"M19 3H5c-1.1 0-2 .9-2 2v14c0 1.1.9 2 2 2h14c1.1 0 2-.9 2-2V5c0-1.1-.9-2-2-2zM9 17H7v-7h2v7zm4 0h-2V7h2v10zm4 0h-2v-4h2v4z\"/>\n",
              "    </g>\n",
              "</svg>\n",
              "      </button>\n",
              "\n",
              "<style>\n",
              "  .colab-df-quickchart {\n",
              "      --bg-color: #E8F0FE;\n",
              "      --fill-color: #1967D2;\n",
              "      --hover-bg-color: #E2EBFA;\n",
              "      --hover-fill-color: #174EA6;\n",
              "      --disabled-fill-color: #AAA;\n",
              "      --disabled-bg-color: #DDD;\n",
              "  }\n",
              "\n",
              "  [theme=dark] .colab-df-quickchart {\n",
              "      --bg-color: #3B4455;\n",
              "      --fill-color: #D2E3FC;\n",
              "      --hover-bg-color: #434B5C;\n",
              "      --hover-fill-color: #FFFFFF;\n",
              "      --disabled-bg-color: #3B4455;\n",
              "      --disabled-fill-color: #666;\n",
              "  }\n",
              "\n",
              "  .colab-df-quickchart {\n",
              "    background-color: var(--bg-color);\n",
              "    border: none;\n",
              "    border-radius: 50%;\n",
              "    cursor: pointer;\n",
              "    display: none;\n",
              "    fill: var(--fill-color);\n",
              "    height: 32px;\n",
              "    padding: 0;\n",
              "    width: 32px;\n",
              "  }\n",
              "\n",
              "  .colab-df-quickchart:hover {\n",
              "    background-color: var(--hover-bg-color);\n",
              "    box-shadow: 0 1px 2px rgba(60, 64, 67, 0.3), 0 1px 3px 1px rgba(60, 64, 67, 0.15);\n",
              "    fill: var(--button-hover-fill-color);\n",
              "  }\n",
              "\n",
              "  .colab-df-quickchart-complete:disabled,\n",
              "  .colab-df-quickchart-complete:disabled:hover {\n",
              "    background-color: var(--disabled-bg-color);\n",
              "    fill: var(--disabled-fill-color);\n",
              "    box-shadow: none;\n",
              "  }\n",
              "\n",
              "  .colab-df-spinner {\n",
              "    border: 2px solid var(--fill-color);\n",
              "    border-color: transparent;\n",
              "    border-bottom-color: var(--fill-color);\n",
              "    animation:\n",
              "      spin 1s steps(1) infinite;\n",
              "  }\n",
              "\n",
              "  @keyframes spin {\n",
              "    0% {\n",
              "      border-color: transparent;\n",
              "      border-bottom-color: var(--fill-color);\n",
              "      border-left-color: var(--fill-color);\n",
              "    }\n",
              "    20% {\n",
              "      border-color: transparent;\n",
              "      border-left-color: var(--fill-color);\n",
              "      border-top-color: var(--fill-color);\n",
              "    }\n",
              "    30% {\n",
              "      border-color: transparent;\n",
              "      border-left-color: var(--fill-color);\n",
              "      border-top-color: var(--fill-color);\n",
              "      border-right-color: var(--fill-color);\n",
              "    }\n",
              "    40% {\n",
              "      border-color: transparent;\n",
              "      border-right-color: var(--fill-color);\n",
              "      border-top-color: var(--fill-color);\n",
              "    }\n",
              "    60% {\n",
              "      border-color: transparent;\n",
              "      border-right-color: var(--fill-color);\n",
              "    }\n",
              "    80% {\n",
              "      border-color: transparent;\n",
              "      border-right-color: var(--fill-color);\n",
              "      border-bottom-color: var(--fill-color);\n",
              "    }\n",
              "    90% {\n",
              "      border-color: transparent;\n",
              "      border-bottom-color: var(--fill-color);\n",
              "    }\n",
              "  }\n",
              "</style>\n",
              "\n",
              "      <script>\n",
              "        async function quickchart(key) {\n",
              "          const quickchartButtonEl =\n",
              "            document.querySelector('#' + key + ' button');\n",
              "          quickchartButtonEl.disabled = true;  // To prevent multiple clicks.\n",
              "          quickchartButtonEl.classList.add('colab-df-spinner');\n",
              "          try {\n",
              "            const charts = await google.colab.kernel.invokeFunction(\n",
              "                'suggestCharts', [key], {});\n",
              "          } catch (error) {\n",
              "            console.error('Error during call to suggestCharts:', error);\n",
              "          }\n",
              "          quickchartButtonEl.classList.remove('colab-df-spinner');\n",
              "          quickchartButtonEl.classList.add('colab-df-quickchart-complete');\n",
              "        }\n",
              "        (() => {\n",
              "          let quickchartButtonEl =\n",
              "            document.querySelector('#df-42788ca8-9c4e-4568-9b1c-5c5683fcb435 button');\n",
              "          quickchartButtonEl.style.display =\n",
              "            google.colab.kernel.accessAllowed ? 'block' : 'none';\n",
              "        })();\n",
              "      </script>\n",
              "    </div>\n",
              "\n",
              "  <div id=\"id_24aac1e3-6572-4f95-8ef9-f88209e91b24\">\n",
              "    <style>\n",
              "      .colab-df-generate {\n",
              "        background-color: #E8F0FE;\n",
              "        border: none;\n",
              "        border-radius: 50%;\n",
              "        cursor: pointer;\n",
              "        display: none;\n",
              "        fill: #1967D2;\n",
              "        height: 32px;\n",
              "        padding: 0 0 0 0;\n",
              "        width: 32px;\n",
              "      }\n",
              "\n",
              "      .colab-df-generate:hover {\n",
              "        background-color: #E2EBFA;\n",
              "        box-shadow: 0px 1px 2px rgba(60, 64, 67, 0.3), 0px 1px 3px 1px rgba(60, 64, 67, 0.15);\n",
              "        fill: #174EA6;\n",
              "      }\n",
              "\n",
              "      [theme=dark] .colab-df-generate {\n",
              "        background-color: #3B4455;\n",
              "        fill: #D2E3FC;\n",
              "      }\n",
              "\n",
              "      [theme=dark] .colab-df-generate:hover {\n",
              "        background-color: #434B5C;\n",
              "        box-shadow: 0px 1px 3px 1px rgba(0, 0, 0, 0.15);\n",
              "        filter: drop-shadow(0px 1px 2px rgba(0, 0, 0, 0.3));\n",
              "        fill: #FFFFFF;\n",
              "      }\n",
              "    </style>\n",
              "    <button class=\"colab-df-generate\" onclick=\"generateWithVariable('credit_df')\"\n",
              "            title=\"Generate code using this dataframe.\"\n",
              "            style=\"display:none;\">\n",
              "\n",
              "  <svg xmlns=\"http://www.w3.org/2000/svg\" height=\"24px\"viewBox=\"0 0 24 24\"\n",
              "       width=\"24px\">\n",
              "    <path d=\"M7,19H8.4L18.45,9,17,7.55,7,17.6ZM5,21V16.75L18.45,3.32a2,2,0,0,1,2.83,0l1.4,1.43a1.91,1.91,0,0,1,.58,1.4,1.91,1.91,0,0,1-.58,1.4L9.25,21ZM18.45,9,17,7.55Zm-12,3A5.31,5.31,0,0,0,4.9,8.1,5.31,5.31,0,0,0,1,6.5,5.31,5.31,0,0,0,4.9,4.9,5.31,5.31,0,0,0,6.5,1,5.31,5.31,0,0,0,8.1,4.9,5.31,5.31,0,0,0,12,6.5,5.46,5.46,0,0,0,6.5,12Z\"/>\n",
              "  </svg>\n",
              "    </button>\n",
              "    <script>\n",
              "      (() => {\n",
              "      const buttonEl =\n",
              "        document.querySelector('#id_24aac1e3-6572-4f95-8ef9-f88209e91b24 button.colab-df-generate');\n",
              "      buttonEl.style.display =\n",
              "        google.colab.kernel.accessAllowed ? 'block' : 'none';\n",
              "\n",
              "      buttonEl.onclick = () => {\n",
              "        google.colab.notebook.generateWithVariable('credit_df');\n",
              "      }\n",
              "      })();\n",
              "    </script>\n",
              "  </div>\n",
              "\n",
              "    </div>\n",
              "  </div>\n"
            ],
            "application/vnd.google.colaboratory.intrinsic+json": {
              "type": "dataframe",
              "variable_name": "credit_df"
            }
          },
          "metadata": {},
          "execution_count": 5
        }
      ]
    },
    {
      "cell_type": "markdown",
      "source": [
        "# Part A : Data Preprocessing and Imputation"
      ],
      "metadata": {
        "id": "xf49BNsP0bGn"
      }
    },
    {
      "cell_type": "code",
      "source": [
        "np.random.seed(42)\n",
        "missing_cols=['LIMIT_BAL', 'AGE', 'BILL_AMT1']\n",
        "for col in missing_cols:\n",
        "  mask=(credit_df['EDUCATION']==3) & (credit_df['MARRIAGE']==1) # assuming that it is difficult to determine the age of married individuals who have completed till high school education\n",
        "  mask_idx=credit_df[mask].sample(frac=np.random.uniform(0.05, 0.1), random_state=42).index\n",
        "  credit_df.loc[mask_idx, col]=np.nan\n",
        "missing_summary=credit_df[missing_cols].isnull().sum() # no. of missing values in each column\n",
        "print(missing_summary)"
      ],
      "metadata": {
        "colab": {
          "base_uri": "https://localhost:8080/"
        },
        "id": "NXU8SA1HbCqT",
        "outputId": "c6a80276-55d2-4381-ad1b-686fbace4a7d"
      },
      "execution_count": 6,
      "outputs": [
        {
          "output_type": "stream",
          "name": "stdout",
          "text": [
            "LIMIT_BAL    197\n",
            "AGE          279\n",
            "BILL_AMT1    248\n",
            "dtype: int64\n"
          ]
        }
      ]
    },
    {
      "cell_type": "code",
      "source": [
        "dataset_A=credit_df.copy()\n",
        "for col in missing_cols:\n",
        "  median_value=dataset_A[col].median()\n",
        "  dataset_A[col]=dataset_A[col].fillna(median_value) # median imputation\n",
        "\n",
        "print('\\nMissing values after median imputation for Dataset A : ')\n",
        "print(dataset_A[missing_cols].isnull().sum())"
      ],
      "metadata": {
        "colab": {
          "base_uri": "https://localhost:8080/"
        },
        "id": "AmNgunpAqZmt",
        "outputId": "1fdc30d5-5ce6-4dc6-f3d5-506f6f7dbb96"
      },
      "execution_count": 17,
      "outputs": [
        {
          "output_type": "stream",
          "name": "stdout",
          "text": [
            "\n",
            "Missing values after median imputation for Dataset A : \n",
            "LIMIT_BAL    0\n",
            "AGE          0\n",
            "BILL_AMT1    0\n",
            "dtype: int64\n"
          ]
        }
      ]
    },
    {
      "cell_type": "markdown",
      "source": [
        "The median is preferred over the mean for imputation because it provides a more robust measure of central tendency in the presence of outliers or skewed distributions. Extreme values can disproportionately influence the mean since the mean is computed as the arithmetic average of all observations (every value contributes directly to its calculation). As a result, even a single unusually large or small value can pull the mean toward itself, distorting the overall representation of the dataset. This leads to biased imputations, especially when the data are not symmetrically distributed. Therefore, the median serves as a more reliable estimator in such cases, as it remains unaffected by the magnitude of extreme observations."
      ],
      "metadata": {
        "id": "vV83X_LHFqM-"
      }
    },
    {
      "cell_type": "code",
      "source": [
        "dataset_B=credit_df.copy()\n",
        "target_col='LIMIT_BAL'\n",
        "other_cols=['AGE', 'BILL_AMT1']\n",
        "\n",
        "for col in other_cols:    # median imputation for handling missing values of other columns\n",
        "  median_value=dataset_B[col].median()\n",
        "  dataset_B[col]=dataset_B[col].fillna(median_value)\n",
        "\n",
        "known_data_B=dataset_B[dataset_B[target_col].notnull()]\n",
        "unknown_data_B=dataset_B[dataset_B[target_col].isnull()]\n",
        "\n",
        "\n",
        "X_train_B=known_data_B.drop(columns=[target_col, 'ID', 'default.payment.next.month'])\n",
        "y_train_B=known_data_B[target_col]\n",
        "X_test_B=unknown_data_B.drop(columns=[target_col, 'ID', 'default.payment.next.month'])\n",
        "\n",
        "lin_reg=LinearRegression()\n",
        "lin_reg.fit(X_train_B, y_train_B)\n",
        "y_pred_B=lin_reg.predict(X_test_B)\n",
        "\n",
        "dataset_B.loc[unknown_data_B.index, target_col]=y_pred_B\n",
        "\n",
        "print('\\nMissing values after imputation for Dataset B : ')\n",
        "print(dataset_B[target_col].isnull().sum())"
      ],
      "metadata": {
        "colab": {
          "base_uri": "https://localhost:8080/"
        },
        "id": "qIz2j9HupbWO",
        "outputId": "dc2aeb63-f335-4ae2-e3c3-d2e68a09be71"
      },
      "execution_count": 15,
      "outputs": [
        {
          "output_type": "stream",
          "name": "stdout",
          "text": [
            "\n",
            "Missing values after imputation for Dataset B : \n",
            "0\n"
          ]
        }
      ]
    },
    {
      "cell_type": "markdown",
      "source": [
        "Data is said to be Missing at Random (MAR) when the probability of a data point being missing depends on other observed variables in the dataset, but not on the unobserved (missing) values themselves. The \"missingness\" of data points is systematically related to known, available data rather than the missing entries. Thus, the underlying assumption is that there exists a statistical relationship between the missingness pattern and certain observed features in the dataset."
      ],
      "metadata": {
        "id": "g3NKZ7D5r9Ka"
      }
    },
    {
      "cell_type": "code",
      "source": [
        "dataset_C=credit_df.copy()\n",
        "target_col='LIMIT_BAL'\n",
        "other_cols=['AGE', 'BILL_AMT1']\n",
        "\n",
        "for col in other_cols:    # median imputation for handling missing values of other columns\n",
        "  median_value=dataset_C[col].median()\n",
        "  dataset_C[col]=dataset_C[col].fillna(median_value)\n",
        "\n",
        "known_data_C=dataset_C[dataset_C[target_col].notnull()]\n",
        "unknown_data_C=dataset_C[dataset_C[target_col].isnull()]\n",
        "\n",
        "X_train_C=known_data_C.drop(columns=[target_col, 'ID', 'default.payment.next.month'])\n",
        "y_train_C=known_data_C[target_col]\n",
        "X_test_C=unknown_data_C.drop(columns=[target_col, 'ID', 'default.payment.next.month'])\n",
        "\n",
        "dec_tree_reg=DecisionTreeRegressor()\n",
        "dec_tree_reg.fit(X_train_C, y_train_C)\n",
        "y_pred_C=dec_tree_reg.predict(X_test_C)\n",
        "\n",
        "dataset_C.loc[unknown_data_C.index, target_col]=y_pred_C\n",
        "\n",
        "print('\\nMissing values after imputation for Dataset C : ')\n",
        "print(dataset_C[target_col].isnull().sum())"
      ],
      "metadata": {
        "colab": {
          "base_uri": "https://localhost:8080/"
        },
        "id": "mUpcjlLMxsne",
        "outputId": "b30b5002-8d13-45c8-a2f2-9fd34e697e1c"
      },
      "execution_count": 16,
      "outputs": [
        {
          "output_type": "stream",
          "name": "stdout",
          "text": [
            "\n",
            "Missing values after imputation for Dataset C : \n",
            "0\n"
          ]
        }
      ]
    },
    {
      "cell_type": "markdown",
      "source": [
        "# Part B : Model Training and Performance Assessment"
      ],
      "metadata": {
        "id": "BG7lCXFU0hy1"
      }
    },
    {
      "cell_type": "code",
      "source": [
        "scaler=StandardScaler()"
      ],
      "metadata": {
        "id": "Onril_AT2c84"
      },
      "execution_count": 10,
      "outputs": []
    },
    {
      "cell_type": "markdown",
      "source": [
        "Dataset A (Median Imputation)"
      ],
      "metadata": {
        "id": "VOx5uCjFuGCL"
      }
    },
    {
      "cell_type": "code",
      "source": [
        "X_a=dataset_A.drop(columns=['ID', 'default.payment.next.month'])\n",
        "y_a=dataset_A['default.payment.next.month']\n",
        "\n",
        "X_a_train, X_a_test, y_a_train, y_a_test = train_test_split(X_a, y_a, test_size=0.2, random_state=42)\n",
        "X_a_train_scaled=scaler.fit_transform(X_a_train)\n",
        "X_a_test_scaled=scaler.transform(X_a_test)\n",
        "\n",
        "lgr_reg_a=LogisticRegression()\n",
        "lgr_reg_a.fit(X_a_train_scaled, y_a_train)\n",
        "y_a_pred=lgr_reg_a.predict(X_a_test_scaled)\n",
        "\n",
        "print(classification_report(y_a_test, y_a_pred))\n",
        "print(\"Accuracy = \", accuracy_score(y_a_test, y_a_pred))\n",
        "print(\"Precision = \", precision_score(y_a_test, y_a_pred))\n",
        "print(\"Recall = \", recall_score(y_a_test, y_a_pred))\n",
        "print(\"F1 Score = \", f1_score(y_a_test, y_a_pred))"
      ],
      "metadata": {
        "colab": {
          "base_uri": "https://localhost:8080/"
        },
        "id": "kdnaZ0DO1rbC",
        "outputId": "30539126-2e0a-421e-8b23-e135f5087aa8"
      },
      "execution_count": 11,
      "outputs": [
        {
          "output_type": "stream",
          "name": "stdout",
          "text": [
            "              precision    recall  f1-score   support\n",
            "\n",
            "           0       0.82      0.97      0.89      4687\n",
            "           1       0.70      0.24      0.35      1313\n",
            "\n",
            "    accuracy                           0.81      6000\n",
            "   macro avg       0.76      0.60      0.62      6000\n",
            "weighted avg       0.79      0.81      0.77      6000\n",
            "\n",
            "Accuracy =  0.8101666666666667\n",
            "Precision =  0.695067264573991\n",
            "Recall =  0.2361005331302361\n",
            "F1 Score =  0.35247299602046617\n"
          ]
        }
      ]
    },
    {
      "cell_type": "markdown",
      "source": [
        "Dataset B (Linear Regression Imputation)"
      ],
      "metadata": {
        "id": "yOc9C3RAuH7O"
      }
    },
    {
      "cell_type": "code",
      "source": [
        "X_b=dataset_B.drop(columns=['ID', 'default.payment.next.month'])\n",
        "y_b=dataset_B['default.payment.next.month']\n",
        "\n",
        "X_b_train, X_b_test, y_b_train, y_b_test = train_test_split(X_b, y_b, test_size=0.2, random_state=42)\n",
        "X_b_train_scaled=scaler.fit_transform(X_b_train)\n",
        "X_b_test_scaled=scaler.transform(X_b_test)\n",
        "\n",
        "lgr_reg_b=LogisticRegression()\n",
        "lgr_reg_b.fit(X_b_train_scaled, y_b_train)\n",
        "y_b_pred=lgr_reg_b.predict(X_b_test_scaled)\n",
        "\n",
        "print(classification_report(y_b_test, y_b_pred))\n",
        "print(\"Accuracy = \", accuracy_score(y_b_test, y_b_pred))\n",
        "print(\"Precision = \", precision_score(y_b_test, y_b_pred))\n",
        "print(\"Recall = \", recall_score(y_b_test, y_b_pred))\n",
        "print(\"F1 Score = \", f1_score(y_b_test, y_b_pred))"
      ],
      "metadata": {
        "colab": {
          "base_uri": "https://localhost:8080/"
        },
        "id": "kS5t4lQs5dut",
        "outputId": "c4616a72-5dce-407c-8cec-8d19774873ab"
      },
      "execution_count": 12,
      "outputs": [
        {
          "output_type": "stream",
          "name": "stdout",
          "text": [
            "              precision    recall  f1-score   support\n",
            "\n",
            "           0       0.82      0.97      0.89      4687\n",
            "           1       0.70      0.24      0.35      1313\n",
            "\n",
            "    accuracy                           0.81      6000\n",
            "   macro avg       0.76      0.60      0.62      6000\n",
            "weighted avg       0.79      0.81      0.77      6000\n",
            "\n",
            "Accuracy =  0.8103333333333333\n",
            "Precision =  0.6957494407158836\n",
            "Recall =  0.23686214775323686\n",
            "F1 Score =  0.3534090909090909\n"
          ]
        }
      ]
    },
    {
      "cell_type": "markdown",
      "source": [
        "Dataset C (Decision Tree Imputation)"
      ],
      "metadata": {
        "id": "uLzt2V5kuJEG"
      }
    },
    {
      "cell_type": "code",
      "source": [
        "X_c=dataset_C.drop(columns=['ID', 'default.payment.next.month'])\n",
        "y_c=dataset_C['default.payment.next.month']\n",
        "\n",
        "X_c_train, X_c_test, y_c_train, y_c_test = train_test_split(X_c, y_c, test_size=0.2, random_state=42)\n",
        "X_c_train_scaled=scaler.fit_transform(X_c_train)\n",
        "X_c_test_scaled=scaler.transform(X_c_test)\n",
        "\n",
        "lgr_reg_c=LogisticRegression()\n",
        "lgr_reg_c.fit(X_c_train_scaled, y_c_train)\n",
        "y_c_pred=lgr_reg_c.predict(X_c_test_scaled)\n",
        "\n",
        "print(classification_report(y_c_test, y_c_pred))\n",
        "print(\"Accuracy = \", accuracy_score(y_c_test, y_c_pred))\n",
        "print(\"Precision = \", precision_score(y_c_test, y_c_pred))\n",
        "print(\"Recall = \", recall_score(y_c_test, y_c_pred))\n",
        "print(\"F1 Score = \", f1_score(y_c_test, y_c_pred))"
      ],
      "metadata": {
        "colab": {
          "base_uri": "https://localhost:8080/"
        },
        "id": "GjFPYyyi5xBR",
        "outputId": "c6e53a6b-5701-41e4-bd89-e6a70ae8046b"
      },
      "execution_count": 13,
      "outputs": [
        {
          "output_type": "stream",
          "name": "stdout",
          "text": [
            "              precision    recall  f1-score   support\n",
            "\n",
            "           0       0.82      0.97      0.89      4687\n",
            "           1       0.69      0.24      0.35      1313\n",
            "\n",
            "    accuracy                           0.81      6000\n",
            "   macro avg       0.76      0.60      0.62      6000\n",
            "weighted avg       0.79      0.81      0.77      6000\n",
            "\n",
            "Accuracy =  0.81\n",
            "Precision =  0.6935123042505593\n",
            "Recall =  0.2361005331302361\n",
            "F1 Score =  0.3522727272727273\n"
          ]
        }
      ]
    },
    {
      "cell_type": "markdown",
      "source": [
        "Dataset D (Drop Missing Values)"
      ],
      "metadata": {
        "id": "66EtXT1QuKXc"
      }
    },
    {
      "cell_type": "code",
      "source": [
        "dataset_D=credit_df.copy()\n",
        "dataset_D=dataset_D.dropna()\n",
        "\n",
        "X_d=dataset_D.drop(columns=['ID', 'default.payment.next.month'])\n",
        "y_d=dataset_D['default.payment.next.month']\n",
        "\n",
        "X_d_train, X_d_test, y_d_train, y_d_test = train_test_split(X_d, y_d, test_size=0.2, random_state=42)\n",
        "X_d_train_scaled=scaler.fit_transform(X_d_train)\n",
        "X_d_test_scaled=scaler.transform(X_d_test)\n",
        "\n",
        "lgr_reg_d=LogisticRegression()\n",
        "lgr_reg_d.fit(X_d_train_scaled, y_d_train)\n",
        "y_d_pred=lgr_reg_d.predict(X_d_test_scaled)\n",
        "\n",
        "print(classification_report(y_d_test, y_d_pred))\n",
        "print(\"Accuracy = \", accuracy_score(y_d_test, y_d_pred))\n",
        "print(\"Precision = \", precision_score(y_d_test, y_d_pred))\n",
        "print(\"Recall = \", recall_score(y_d_test, y_d_pred))\n",
        "print(\"F1 Score = \", f1_score(y_d_test, y_d_pred))"
      ],
      "metadata": {
        "colab": {
          "base_uri": "https://localhost:8080/"
        },
        "id": "XWqHuXOZ5x4_",
        "outputId": "517038a1-8332-4597-8c72-93a3af5b4676"
      },
      "execution_count": 14,
      "outputs": [
        {
          "output_type": "stream",
          "name": "stdout",
          "text": [
            "              precision    recall  f1-score   support\n",
            "\n",
            "           0       0.82      0.97      0.89      4659\n",
            "           1       0.68      0.22      0.34      1286\n",
            "\n",
            "    accuracy                           0.81      5945\n",
            "   macro avg       0.75      0.60      0.61      5945\n",
            "weighted avg       0.79      0.81      0.77      5945\n",
            "\n",
            "Accuracy =  0.8092514718250631\n",
            "Precision =  0.6784037558685446\n",
            "Recall =  0.22472783825816486\n",
            "F1 Score =  0.33761682242990654\n"
          ]
        }
      ]
    },
    {
      "cell_type": "markdown",
      "source": [
        "# Part C : Comparative Analysis"
      ],
      "metadata": {
        "id": "HoUmO9bzBXtB"
      }
    },
    {
      "cell_type": "markdown",
      "metadata": {
        "id": "d3c8f22c"
      },
      "source": [
        "Model | Accuracy | Precision | Recall | F1 Score\n",
        "--- | --- | --- | --- | ---\n",
        "Dataset A (Median Imputation) | 0.8102 | 0.6951 | 0.2361 | 0.3525\n",
        "Dataset B (Linear Regression Imputation) | 0.8103 | 0.6957 | 0.2369 | 0.3534\n",
        "Dataset C (Decision Tree Imputation) | 0.8100 | 0.6935 | 0.2361 | 0.3523\n",
        "Dataset D (Drop Missing Values) | 0.8093 | 0.6784 | 0.2247 | 0.3376"
      ]
    },
    {
      "cell_type": "markdown",
      "source": [
        "Listwise deletion removes all rows with any missing values, leading to a smaller and potentially biased dataset, especially if the missingness is not completely random. In contrast, imputation preserves data size and information by filling in missing values. The trade-off revolves around bias and imputation simplicity. Primary advantage of listwise deletion is that it is easy to implement and does not introduce any artificial data. However, by discarding incomplete observations, it reduces the sample size, which leads to inherently biased data if the missing samples are not missing completely at random (MCAR). On the other hand, imputation methods preserve the dataset size by filling in missing values based on observed information. This may introduce some degree of estimation error, but it generally maintains the model robustness and reliability for predictions, especially if the data points are missing at random (MAR). Thus model D performs poorly because it discards potentially informative data, distorts the underlying data distribution, and increases variance in model estimates. Imputation, though more complex, provides a more balanced approach by leveraging available information to approximate the missing values."
      ],
      "metadata": {
        "id": "qwDrUGyHD3Tt"
      }
    },
    {
      "cell_type": "markdown",
      "source": [
        "Based on the performance metrics it is observed that the linear regression imputation performs slightly better than the decision tree imputation. Linear regression assumes a linear relationship between the target variable and the predictors. Decision tree regressor does not make any assumption about the functional form between the predictors and target. They partition the feature space and assign constant prediction within each region. The relationship between the customer's credit limit (LIMIT_BAL) and monthly bill amounts (BILL_AMT) and payment amounts (PAY_AMT) is largely linear, as people with high credit limit have a higher spending tendency. Thus, better results are observed for the linear model. This assumption is not strictly linear, hence the model performs only slightly better than the non-linear model."
      ],
      "metadata": {
        "id": "v5tglNGNI9dS"
      }
    },
    {
      "cell_type": "markdown",
      "source": [
        "The best strategy to handle missing data is to perform **imputation using linear regression** for features that are largely linearly dependent on other observed variables. For unrelated variables, simpler methods such as median imputation should suffice. Based on the performance metrics - accuracy, precision, recall and F1 score, it is observed that the model performs best on the data imputed using linear regression. Conceptually, this is true because, if certain features are linearly dependent on other variables, linear regression imputation performs better than simple median imputation and more complex non-linear imputation. Since the credit limit is proportional to customers' spending and repayment behavior, the linear assumption is realistic. Features, which do not have strong dependence on other observed variables (age does not depend on the spending or repayment behavior), simpler imputation methods, like median imputation, can work effectively. These combined techniques provide the best performance and produce the most reliable classification results for predicting default risk"
      ],
      "metadata": {
        "id": "xBfxXWWYMcW2"
      }
    }
  ]
}